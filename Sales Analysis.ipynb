{
 "cells": [
  {
   "cell_type": "markdown",
   "id": "82118f2c",
   "metadata": {},
   "source": [
    "# Sales Analysis "
   ]
  },
  {
   "cell_type": "code",
   "execution_count": null,
   "id": "7691bc1b",
   "metadata": {},
   "outputs": [],
   "source": [
    "# Sales analysis for a data set that has time, date, state wise reports of sales and units."
   ]
  },
  {
   "cell_type": "code",
   "execution_count": 1,
   "id": "4bb001db",
   "metadata": {},
   "outputs": [],
   "source": [
    "import pandas as pd\n",
    "import numpy as np\n",
    "import seaborn as sns\n",
    "import matplotlib.pyplot as plt\n"
   ]
  },
  {
   "cell_type": "markdown",
   "id": "6eee3fbc",
   "metadata": {},
   "source": [
    "# Data Wrangling"
   ]
  },
  {
   "cell_type": "code",
   "execution_count": 3,
   "id": "b97be491",
   "metadata": {},
   "outputs": [
    {
     "data": {
      "text/html": [
       "<div>\n",
       "<style scoped>\n",
       "    .dataframe tbody tr th:only-of-type {\n",
       "        vertical-align: middle;\n",
       "    }\n",
       "\n",
       "    .dataframe tbody tr th {\n",
       "        vertical-align: top;\n",
       "    }\n",
       "\n",
       "    .dataframe thead th {\n",
       "        text-align: right;\n",
       "    }\n",
       "</style>\n",
       "<table border=\"1\" class=\"dataframe\">\n",
       "  <thead>\n",
       "    <tr style=\"text-align: right;\">\n",
       "      <th></th>\n",
       "      <th>Date</th>\n",
       "      <th>Time</th>\n",
       "      <th>State</th>\n",
       "      <th>Group</th>\n",
       "      <th>Unit</th>\n",
       "      <th>Sales</th>\n",
       "    </tr>\n",
       "  </thead>\n",
       "  <tbody>\n",
       "    <tr>\n",
       "      <th>0</th>\n",
       "      <td>2020-10-01</td>\n",
       "      <td>Morning</td>\n",
       "      <td>WA</td>\n",
       "      <td>Kids</td>\n",
       "      <td>8</td>\n",
       "      <td>20000</td>\n",
       "    </tr>\n",
       "    <tr>\n",
       "      <th>1</th>\n",
       "      <td>2020-10-01</td>\n",
       "      <td>Morning</td>\n",
       "      <td>WA</td>\n",
       "      <td>Men</td>\n",
       "      <td>8</td>\n",
       "      <td>20000</td>\n",
       "    </tr>\n",
       "    <tr>\n",
       "      <th>2</th>\n",
       "      <td>2020-10-01</td>\n",
       "      <td>Morning</td>\n",
       "      <td>WA</td>\n",
       "      <td>Women</td>\n",
       "      <td>4</td>\n",
       "      <td>10000</td>\n",
       "    </tr>\n",
       "    <tr>\n",
       "      <th>3</th>\n",
       "      <td>2020-10-01</td>\n",
       "      <td>Morning</td>\n",
       "      <td>WA</td>\n",
       "      <td>Seniors</td>\n",
       "      <td>15</td>\n",
       "      <td>37500</td>\n",
       "    </tr>\n",
       "    <tr>\n",
       "      <th>4</th>\n",
       "      <td>2020-10-01</td>\n",
       "      <td>Afternoon</td>\n",
       "      <td>WA</td>\n",
       "      <td>Kids</td>\n",
       "      <td>3</td>\n",
       "      <td>7500</td>\n",
       "    </tr>\n",
       "  </tbody>\n",
       "</table>\n",
       "</div>"
      ],
      "text/plain": [
       "        Date        Time State     Group  Unit  Sales\n",
       "0 2020-10-01     Morning    WA      Kids     8  20000\n",
       "1 2020-10-01     Morning    WA       Men     8  20000\n",
       "2 2020-10-01     Morning    WA     Women     4  10000\n",
       "3 2020-10-01     Morning    WA   Seniors    15  37500\n",
       "4 2020-10-01   Afternoon    WA      Kids     3   7500"
      ]
     },
     "execution_count": 3,
     "metadata": {},
     "output_type": "execute_result"
    }
   ],
   "source": [
    "df = pd.read_excel('Project-Python-Sales Analysis.xlsx')\n",
    "df.head()"
   ]
  },
  {
   "cell_type": "code",
   "execution_count": 4,
   "id": "23e3afa5",
   "metadata": {},
   "outputs": [
    {
     "name": "stdout",
     "output_type": "stream",
     "text": [
      "Missing Values:\n",
      " Date     0\n",
      "Time     0\n",
      "State    0\n",
      "Group    0\n",
      "Unit     0\n",
      "Sales    0\n",
      "dtype: int64\n"
     ]
    }
   ],
   "source": [
    "missing_values = df.isna().sum()\n",
    "print(\"Missing Values:\\n\", missing_values)"
   ]
  },
  {
   "cell_type": "code",
   "execution_count": null,
   "id": "d16075a3",
   "metadata": {},
   "outputs": [],
   "source": [
    "#there is no missing values, so no worry about handling them or replacing them with mean values"
   ]
  },
  {
   "cell_type": "code",
   "execution_count": 6,
   "id": "fc04a7e3",
   "metadata": {},
   "outputs": [],
   "source": [
    "df['sales_normalized'] = (df['Sales'] - df['Sales'].min()) / (df['Sales'].max() - df['Sales'].min())"
   ]
  },
  {
   "cell_type": "code",
   "execution_count": 7,
   "id": "90f5db66",
   "metadata": {},
   "outputs": [
    {
     "name": "stdout",
     "output_type": "stream",
     "text": [
      "\n",
      "Sales by Group and State:\n",
      "Group     State\n",
      " Kids      NSW     18587500\n",
      "           NT       5700000\n",
      "           QLD      8510000\n",
      "           SA      14515000\n",
      "           TAS      5775000\n",
      "           VIC     26360000\n",
      "           WA       5625000\n",
      " Men       NSW     19022500\n",
      "           NT       5762500\n",
      "           QLD      8392500\n",
      "           SA      14655000\n",
      "           TAS      5757500\n",
      "           VIC     26407500\n",
      "           WA       5752500\n",
      " Seniors   NSW     18187500\n",
      "           NT       5465000\n",
      "           QLD      8190000\n",
      "           SA      14717500\n",
      "           TAS      5650000\n",
      "           VIC     26315000\n",
      "           WA       5512500\n",
      " Women     NSW     19172500\n",
      "           NT       5652500\n",
      "           QLD      8325000\n",
      "           SA      14970000\n",
      "           TAS      5577500\n",
      "           VIC     26482500\n",
      "           WA       5262500\n",
      "Name: Sales, dtype: int64\n"
     ]
    }
   ],
   "source": [
    "group_state_sales = df.groupby(['Group', 'State'])['Sales'].sum()\n",
    "print(\"\\nSales by Group and State:\")\n",
    "print(group_state_sales)"
   ]
  },
  {
   "cell_type": "markdown",
   "id": "69f0ecfe",
   "metadata": {},
   "source": [
    "# Data Analysis"
   ]
  },
  {
   "cell_type": "code",
   "execution_count": 10,
   "id": "e9950d21",
   "metadata": {},
   "outputs": [
    {
     "name": "stdout",
     "output_type": "stream",
     "text": [
      "\n",
      "Descriptive Statistics:\n",
      "               Sales         Unit\n",
      "count    7560.000000  7560.000000\n",
      "mean    45013.558201    18.005423\n",
      "std     32253.506944    12.901403\n",
      "min      5000.000000     2.000000\n",
      "25%     20000.000000     8.000000\n",
      "50%     35000.000000    14.000000\n",
      "75%     65000.000000    26.000000\n",
      "max    162500.000000    65.000000\n"
     ]
    }
   ],
   "source": [
    "sales_stats = df[['Sales', 'Unit']].describe()\n",
    "print(\"\\nDescriptive Statistics:\")\n",
    "print(sales_stats)"
   ]
  },
  {
   "cell_type": "code",
   "execution_count": 11,
   "id": "af1021ee",
   "metadata": {},
   "outputs": [
    {
     "name": "stdout",
     "output_type": "stream",
     "text": [
      "\n",
      "Group having the highest sales:  Men\n",
      "Group having the lowest sales:  Seniors\n"
     ]
    }
   ],
   "source": [
    "highest_sales_group = df.groupby('Group')['Sales'].sum().idxmax()\n",
    "lowest_sales_group = df.groupby('Group')['Sales'].sum().idxmin()\n",
    "print(\"\\nGroup having the highest sales:\", highest_sales_group)\n",
    "print(\"Group having the lowest sales:\", lowest_sales_group)\n"
   ]
  },
  {
   "cell_type": "code",
   "execution_count": 12,
   "id": "8bf927db",
   "metadata": {},
   "outputs": [
    {
     "name": "stdout",
     "output_type": "stream",
     "text": [
      "\n",
      "State having the highest sales:  VIC\n",
      "State having the lowest sales:  WA\n"
     ]
    }
   ],
   "source": [
    "highest_sales_state = df.groupby('State')['Sales'].sum().idxmax()\n",
    "lowest_sales_state = df.groupby('State')['Sales'].sum().idxmin()\n",
    "print(\"\\nState having the highest sales:\", highest_sales_state)\n",
    "print(\"State having the lowest sales:\", lowest_sales_state)"
   ]
  },
  {
   "cell_type": "code",
   "execution_count": 15,
   "id": "8510e308",
   "metadata": {},
   "outputs": [],
   "source": [
    "df['Date'] = pd.to_datetime(df['Date'])\n",
    "df.set_index('Date', inplace=True)"
   ]
  },
  {
   "cell_type": "code",
   "execution_count": 20,
   "id": "c6576995",
   "metadata": {},
   "outputs": [
    {
     "name": "stdout",
     "output_type": "stream",
     "text": [
      "             Unit     Sales  sales_normalized\n",
      "Date                                         \n",
      "2020-10-04   6018  15045000         84.857143\n",
      "2020-10-11  10801  27002500        152.777778\n",
      "2020-10-18  10656  26640000        150.476190\n",
      "2020-10-25  10726  26815000        151.587302\n",
      "2020-11-01   8723  21807500        122.460317\n",
      "2020-11-08   8346  20865000        113.809524\n",
      "2020-11-15   8469  21172500        115.761905\n",
      "2020-11-22   8445  21112500        115.380952\n",
      "2020-11-29   8591  21477500        117.698413\n",
      "2020-12-06  11849  29622500        169.412698\n",
      "2020-12-13  12610  31525000        181.492063\n",
      "2020-12-20  12662  31655000        182.317460\n",
      "2020-12-27  12708  31770000        183.047619\n",
      "2021-01-03   5517  13792500         79.571429\n",
      "             Unit      Sales  sales_normalized\n",
      "Date                                          \n",
      "2020-10-31  45716  114290000        645.650794\n",
      "2020-11-30  36273   90682500        495.761905\n",
      "2020-12-31  54132  135330000        779.238095\n",
      "              Unit      Sales  sales_normalized\n",
      "Date                                           \n",
      "2020-12-31  136121  340302500       1920.650794\n"
     ]
    }
   ],
   "source": [
    "weekly_sales = df.resample('W').sum()\n",
    "monthly_sales = df.resample('M').sum()\n",
    "quarterly_sales = df.resample('Q').sum()\n",
    "print(weekly_sales)\n",
    "print(monthly_sales)\n",
    "print(quarterly_sales)"
   ]
  },
  {
   "cell_type": "code",
   "execution_count": 22,
   "id": "562db3f0",
   "metadata": {},
   "outputs": [],
   "source": [
    "weekly_sales.to_csv('weekly_sales.csv', index=False)\n",
    "monthly_sales.to_csv('monthly_sales.csv', index=False)\n",
    "quarterly_sales.to_csv('quarterly_sales.csv', index=False)"
   ]
  },
  {
   "cell_type": "markdown",
   "id": "10c641c8",
   "metadata": {},
   "source": [
    "# Data Visualization"
   ]
  },
  {
   "cell_type": "code",
   "execution_count": null,
   "id": "6c6cd5e1",
   "metadata": {},
   "outputs": [],
   "source": [
    "# State wise sales analysis for different groups"
   ]
  },
  {
   "cell_type": "code",
   "execution_count": 23,
   "id": "c58faa64",
   "metadata": {},
   "outputs": [
    {
     "data": {
      "image/png": "[encoded data removed]",
      "text/plain": [
       "<Figure size 720x432 with 1 Axes>"
      ]
     },
     "metadata": {
      "needs_background": "light"
     },
     "output_type": "display_data"
    }
   ],
   "source": [
    "state_group_sales = df.groupby(['State', 'Group'])['Sales'].sum().reset_index()\n",
    "plt.figure(figsize=(10, 6))\n",
    "sns.barplot(x='State', y='Sales', hue='Group', data=state_group_sales)\n",
    "plt.title(\"State-wise Sales by Group\")\n",
    "plt.xlabel(\"State\")\n",
    "plt.ylabel(\"Sales\")\n",
    "plt.legend(title='Group')\n",
    "plt.show()"
   ]
  },
  {
   "cell_type": "code",
   "execution_count": 26,
   "id": "6801446c",
   "metadata": {},
   "outputs": [
    {
     "data": {
      "image/png": "[encoded data removed]",
      "text/plain": [
       "<Figure size 576x432 with 1 Axes>"
      ]
     },
     "metadata": {
      "needs_background": "light"
     },
     "output_type": "display_data"
    }
   ],
   "source": [
    "plt.figure(figsize=(8, 6))\n",
    "sns.boxplot(x='State', y='Sales', data=state_group_sales)\n",
    "plt.title('State-wise Sales by Group')\n",
    "plt.xlabel('State')\n",
    "plt.ylabel('Sales')\n",
    "plt.show()"
   ]
  },
  {
   "cell_type": "code",
   "execution_count": null,
   "id": "e11b87a0",
   "metadata": {},
   "outputs": [],
   "source": [
    "# Group wise sales analysis across different states"
   ]
  },
  {
   "cell_type": "code",
   "execution_count": 27,
   "id": "2d5ded9e",
   "metadata": {},
   "outputs": [
    {
     "data": {
      "image/png": "[encoded data removed]",
      "text/plain": [
       "<Figure size 720x432 with 1 Axes>"
      ]
     },
     "metadata": {
      "needs_background": "light"
     },
     "output_type": "display_data"
    }
   ],
   "source": [
    "group_state_sales = df.groupby(['Group', 'State'])['Sales'].sum().reset_index()\n",
    "plt.figure(figsize=(10, 6))\n",
    "sns.barplot(x='Group', y='Sales', hue='State', data=group_state_sales)\n",
    "plt.title(\"Group-wise Sales across States\")\n",
    "plt.xlabel(\"Group\")\n",
    "plt.ylabel(\"Sales\")\n",
    "plt.legend(title='State')\n",
    "plt.show()"
   ]
  },
  {
   "cell_type": "code",
   "execution_count": 28,
   "id": "8f2f4c0b",
   "metadata": {},
   "outputs": [
    {
     "data": {
      "image/png": "[encoded data removed]",
      "text/plain": [
       "<Figure size 576x432 with 1 Axes>"
      ]
     },
     "metadata": {
      "needs_background": "light"
     },
     "output_type": "display_data"
    }
   ],
   "source": [
    "plt.figure(figsize=(8, 6))\n",
    "sns.boxplot(x='Group', y='Sales', data=group_state_sales)\n",
    "plt.title('Group-wise Sales across States')\n",
    "plt.xlabel('Group')\n",
    "plt.ylabel('Sales')\n",
    "plt.show()"
   ]
  },
  {
   "cell_type": "code",
   "execution_count": null,
   "id": "9c20467d",
   "metadata": {},
   "outputs": [],
   "source": [
    "# Time of the day analysis"
   ]
  },
  {
   "cell_type": "code",
   "execution_count": 35,
   "id": "f4b9036f",
   "metadata": {},
   "outputs": [
    {
     "data": {
      "image/png": "[encoded data removed]",
      "text/plain": [
       "<Figure size 576x432 with 1 Axes>"
      ]
     },
     "metadata": {
      "needs_background": "light"
     },
     "output_type": "display_data"
    }
   ],
   "source": [
    "time_state_sales = df.groupby(['Time', 'State'])['Sales'].sum().reset_index()\n",
    "plt.figure(figsize=(8, 6))\n",
    "sns.barplot(x='Time', y='Sales', data=time_state_sales)\n",
    "plt.title('Time of the day analysis')\n",
    "plt.xlabel('Time')\n",
    "plt.ylabel('Sales')\n",
    "plt.show()"
   ]
  },
  {
   "cell_type": "code",
   "execution_count": 36,
   "id": "1a4ff4b2",
   "metadata": {},
   "outputs": [
    {
     "data": {
      "image/png": "[encoded data removed]",
      "text/plain": [
       "<Figure size 576x432 with 1 Axes>"
      ]
     },
     "metadata": {
      "needs_background": "light"
     },
     "output_type": "display_data"
    }
   ],
   "source": [
    "plt.figure(figsize=(8, 6))\n",
    "sns.boxplot(x='Time', y='Sales', data=time_state_sales)\n",
    "plt.title('Time of the Day Sales Analysis')\n",
    "plt.xlabel('Time')\n",
    "plt.ylabel('Sales')\n",
    "plt.show()"
   ]
  },
  {
   "cell_type": "code",
   "execution_count": 33,
   "id": "2a7b962d",
   "metadata": {},
   "outputs": [
    {
     "name": "stdout",
     "output_type": "stream",
     "text": [
      "\n",
      "Time having the highest sales:  Morning\n",
      "Time having the lowest sales:  Evening\n"
     ]
    }
   ],
   "source": [
    "highest_sales_Time = df.groupby('Time')['Sales'].sum().idxmax()\n",
    "lowest_sales_Time = df.groupby('Time')['Sales'].sum().idxmin()\n",
    "print(\"\\nTime having the highest sales:\", highest_sales_Time)\n",
    "print(\"Time having the lowest sales:\", lowest_sales_Time)"
   ]
  },
  {
   "cell_type": "code",
   "execution_count": null,
   "id": "2d3c5660",
   "metadata": {},
   "outputs": [],
   "source": [
    "# Bar plots are useful for comparing categories or groups. They allow us to visualize and compare the values of a variable across different categories by representing the data as rectangular bars."
   ]
  },
  {
   "cell_type": "code",
   "execution_count": null,
   "id": "14da4aa9",
   "metadata": {},
   "outputs": [],
   "source": [
    "# Box plots provide a compact visualization of the distribution and summary statistics of a continuous variable. They display the median, quartiles, and potential outliers of the data."
   ]
  }
 ],
 "metadata": {
  "kernelspec": {
   "display_name": "Python 3 (ipykernel)",
   "language": "python",
   "name": "python3"
  },
  "language_info": {
   "codemirror_mode": {
    "name": "ipython",
    "version": 3
   },
   "file_extension": ".py",
   "mimetype": "text/x-python",
   "name": "python",
   "nbconvert_exporter": "python",
   "pygments_lexer": "ipython3",
   "version": "3.9.7"
  }
 },
 "nbformat": 4,
 "nbformat_minor": 5
}
